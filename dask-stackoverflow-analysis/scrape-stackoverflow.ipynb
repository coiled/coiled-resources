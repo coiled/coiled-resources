{
 "cells": [
  {
   "cell_type": "markdown",
   "id": "99b80c21-d091-422f-ac8b-02ba82896c7e",
   "metadata": {},
   "source": [
    "# Scraping StackOverflow"
   ]
  },
  {
   "cell_type": "code",
   "execution_count": null,
   "id": "7de5d48c-11fc-407f-ba4b-84a3ee1d31d5",
   "metadata": {},
   "outputs": [],
   "source": []
  },
  {
   "cell_type": "markdown",
   "id": "21259505-a7e1-4e2c-bae0-6e6df8baa481",
   "metadata": {},
   "source": [
    "## Testing code from SO Question\n",
    "https://stackoverflow.com/questions/65611633/scraping-dynamic-website-with-filters-python"
   ]
  },
  {
   "cell_type": "code",
   "execution_count": null,
   "id": "05b302f6-2272-43d8-8dec-b54ca3395552",
   "metadata": {},
   "outputs": [],
   "source": [
    "import bs4\n",
    "import requests\n",
    "import pandas as pd\n",
    "\n",
    "url = \"https://www.feedtables.com/fr/content/table-dry-matter\"\n",
    "headers = {\"user-agent\": \"Mozilla/5.0\"}\n",
    "\n",
    "page = requests.get(url, headers=headers)\n",
    "soup = bs4.BeautifulSoup(page.text,'lxml')\n",
    "\n",
    "df_list = []\n",
    "\n",
    "for url in [url+'?feed_cat='+option['value']+'&parameter_cat=All' for option in soup.find('select',attrs={'name': 'feed_cat'}).find_all('option')][1:3]:\n",
    "    df_list.append(pd.read_html(url)[0])\n",
    "\n",
    "df = df_list[0].dropna(how='all')\n",
    "df"
   ]
  },
  {
   "cell_type": "code",
   "execution_count": null,
   "id": "8ecd4910-9bd5-48ef-9917-f8a54dc8c23b",
   "metadata": {},
   "outputs": [],
   "source": []
  },
  {
   "cell_type": "code",
   "execution_count": null,
   "id": "2086caa3-20df-44e3-bfbd-ee351a66dd69",
   "metadata": {},
   "outputs": [],
   "source": []
  },
  {
   "cell_type": "markdown",
   "id": "a6bc2f85-495e-4a3c-97af-6950842860ad",
   "metadata": {},
   "source": [
    "## YouTube Tutorial\n",
    "https://www.youtube.com/watch?v=BFAQCDr6Qvc\n"
   ]
  },
  {
   "cell_type": "code",
   "execution_count": 1,
   "id": "982af04f-2a60-4620-b34f-acb269e9edbf",
   "metadata": {},
   "outputs": [],
   "source": [
    "import requests\n",
    "from requests_html import HTML\n",
    "import pandas as pd \n",
    "import time\n",
    "import re"
   ]
  },
  {
   "cell_type": "code",
   "execution_count": 2,
   "id": "5f88f86b-70b2-4452-a823-e51963018db5",
   "metadata": {},
   "outputs": [
    {
     "data": {
      "text/plain": [
       "'https://stackoverflow.com/questions/tagged/dask?tab=Newest'"
      ]
     },
     "execution_count": 2,
     "metadata": {},
     "output_type": "execute_result"
    }
   ],
   "source": [
    "base_url = \"https://stackoverflow.com/questions/tagged/\"\n",
    "tag = \"dask\"\n",
    "query_filter = \"Newest\"\n",
    "url = f\"{base_url}{tag}?tab={query_filter}\"\n",
    "url"
   ]
  },
  {
   "cell_type": "code",
   "execution_count": 3,
   "id": "ac05b6e0-4e28-48fc-8209-e704368dbdae",
   "metadata": {
    "tags": []
   },
   "outputs": [],
   "source": [
    "r = requests.get(url)\n",
    "html_str = r.text\n",
    "html = HTML(html=html_str)"
   ]
  },
  {
   "cell_type": "code",
   "execution_count": 4,
   "id": "5c1dc65a-6285-4dd8-8caa-1b8094167e21",
   "metadata": {},
   "outputs": [],
   "source": [
    "question_elements = html.find(\".s-post-summary\")"
   ]
  },
  {
   "cell_type": "code",
   "execution_count": 5,
   "id": "0f17ddc2-ef49-4c8a-babe-3bafbe86aa56",
   "metadata": {},
   "outputs": [
    {
     "name": "stdout",
     "output_type": "stream",
     "text": [
      "1 vote\n",
      "0 answers\n",
      "9 views\n",
      "Issues with workers dying and garbage collection summing over rows of Dataframe with distributed DASK\n",
      "I am new to dask, so this is likely a case of user error, but I'm a bit perplexed. My problem is essentially that I have a large dataframe (tens of thousands of rows and hundreds to thousands of ...\n",
      "python\n",
      "pandas\n",
      "dataframe\n",
      "dask\n",
      "Joseph Kuchar\n",
      "11\n",
      "asked 16 mins ago\n"
     ]
    }
   ],
   "source": [
    "print(question_elements[0].text)"
   ]
  },
  {
   "cell_type": "code",
   "execution_count": null,
   "id": "10d70d35-983e-44a3-b9d1-ebc67264378f",
   "metadata": {},
   "outputs": [],
   "source": []
  },
  {
   "cell_type": "markdown",
   "id": "c4c6c732-85de-40ad-88ac-4698c55af3de",
   "metadata": {},
   "source": [
    "## Get Data for 1 Question"
   ]
  },
  {
   "cell_type": "code",
   "execution_count": 10,
   "id": "4fea35e7-4347-445e-bd0b-23168afb7089",
   "metadata": {},
   "outputs": [],
   "source": [
    "# get most recent question element\n",
    "this_question_element = question_elements[0]"
   ]
  },
  {
   "cell_type": "code",
   "execution_count": 11,
   "id": "49c2872c-7366-4a4e-a936-81b59f585ac3",
   "metadata": {},
   "outputs": [
    {
     "data": {
      "text/plain": [
       "\"1 vote\\n0 answers\\n9 views\\nIssues with workers dying and garbage collection summing over rows of Dataframe with distributed DASK\\nI am new to dask, so this is likely a case of user error, but I'm a bit perplexed. My problem is essentially that I have a large dataframe (tens of thousands of rows and hundreds to thousands of ...\\npython\\npandas\\ndataframe\\ndask\\nJoseph Kuchar\\n11\\nasked 16 mins ago\""
      ]
     },
     "execution_count": 11,
     "metadata": {},
     "output_type": "execute_result"
    }
   ],
   "source": [
    "# inspect element\n",
    "this_question_element.text"
   ]
  },
  {
   "cell_type": "code",
   "execution_count": 12,
   "id": "6605a407-6933-4975-838c-98b6742fd290",
   "metadata": {},
   "outputs": [
    {
     "data": {
      "text/plain": [
       "'Issues with workers dying and garbage collection summing over rows of Dataframe with distributed DASK'"
      ]
     },
     "execution_count": 12,
     "metadata": {},
     "output_type": "execute_result"
    }
   ],
   "source": [
    "# get question title\n",
    "this_question_element.find('.s-link', first=True).text"
   ]
  },
  {
   "cell_type": "code",
   "execution_count": 13,
   "id": "9a02d767-053d-484d-b1d2-e1b46206f3ce",
   "metadata": {},
   "outputs": [
    {
     "data": {
      "text/plain": [
       "'1 vote 0 answers 9 views'"
      ]
     },
     "execution_count": 13,
     "metadata": {},
     "output_type": "execute_result"
    }
   ],
   "source": [
    "# get stats (formatted more nicely)\n",
    "this_question_element.find('.s-post-summary--stats', first=True).text.replace('\\n', ' ')"
   ]
  },
  {
   "cell_type": "code",
   "execution_count": 14,
   "id": "afa547a7-4910-45b6-adec-37ab5199500a",
   "metadata": {},
   "outputs": [
    {
     "data": {
      "text/plain": [
       "'python pandas dataframe dask Joseph Kuchar 11 asked 16 mins ago'"
      ]
     },
     "execution_count": 14,
     "metadata": {},
     "output_type": "execute_result"
    }
   ],
   "source": [
    "# get metadata\n",
    "this_question_element.find('.s-post-summary--meta', first=True).text.replace('\\n', ' ')"
   ]
  },
  {
   "cell_type": "code",
   "execution_count": 15,
   "id": "197ed377-d811-4a30-b003-a5d471090678",
   "metadata": {},
   "outputs": [
    {
     "data": {
      "text/plain": [
       "\"I am new to dask, so this is likely a case of user error, but I'm a bit perplexed. My problem is essentially that I have a large dataframe (tens of thousands of rows and hundreds to thousands of ...\""
      ]
     },
     "execution_count": 15,
     "metadata": {},
     "output_type": "execute_result"
    }
   ],
   "source": [
    "# get question excerpt\n",
    "this_question_element.find('.s-post-summary--content-excerpt', first=True).text"
   ]
  },
  {
   "cell_type": "code",
   "execution_count": 16,
   "id": "881eb0e7-6edb-4643-a5af-3c9eb0064312",
   "metadata": {},
   "outputs": [
    {
     "data": {
      "text/plain": [
       "'Issues with workers dying and garbage collection summing over rows of Dataframe with distributed DASK'"
      ]
     },
     "execution_count": 16,
     "metadata": {},
     "output_type": "execute_result"
    }
   ],
   "source": [
    "# get question title\n",
    "this_question_element.find('.s-post-summary--content-title', first=True).text"
   ]
  },
  {
   "cell_type": "code",
   "execution_count": 17,
   "id": "30ca13c7-4146-4f4f-9da9-ef64e29f7015",
   "metadata": {},
   "outputs": [
    {
     "data": {
      "text/plain": [
       "<Element 'a' href='/questions/74305172/issues-with-workers-dying-and-garbage-collection-summing-over-rows-of-dataframe' class=('s-link',)>"
      ]
     },
     "execution_count": 17,
     "metadata": {},
     "output_type": "execute_result"
    }
   ],
   "source": [
    "# get question hyperlink\n",
    "this_question_element.find('.s-link', first=True)"
   ]
  },
  {
   "cell_type": "code",
   "execution_count": null,
   "id": "934cdfa8-d4fd-40b8-9ed4-0ea8ec69e413",
   "metadata": {},
   "outputs": [],
   "source": []
  },
  {
   "cell_type": "code",
   "execution_count": null,
   "id": "c502c66b-4859-461f-9d46-9c31a0daf997",
   "metadata": {},
   "outputs": [],
   "source": []
  },
  {
   "cell_type": "markdown",
   "id": "0dcaf172-fed3-4d80-8df9-250e564a1e03",
   "metadata": {},
   "source": [
    "## Get Data for All Questions"
   ]
  },
  {
   "cell_type": "markdown",
   "id": "bc4127d4-c8ac-42fe-8716-1ef0b4ec4e8a",
   "metadata": {},
   "source": [
    "## What do I want\n",
    "\n",
    "I want to ideally get:\n",
    "- the question title\n",
    "- answered / unanswered status ( get from n_answers )\n",
    "- number of answers\n",
    "- number of votes\n",
    "- number of views\n",
    "- tags (this one might be tricky)\n",
    "- the question hyperlink (unsure yet how to do exactly)\n",
    "- timestamp would be nice\n",
    "- "
   ]
  },
  {
   "cell_type": "code",
   "execution_count": 18,
   "id": "718230ea-04f8-43a6-a9e5-2fddb697fddc",
   "metadata": {},
   "outputs": [],
   "source": [
    "# define keynames and quetions needed\n",
    "keynames = ['title', 'stats', 'tags']\n",
    "classes_needed = ['.s-post-summary--content-title', '.s-post-summary--stats', '.s-post-summary--meta-tags',]"
   ]
  },
  {
   "cell_type": "code",
   "execution_count": 19,
   "id": "cf3cde61-e57c-4aa8-8c13-3ddb79b4e292",
   "metadata": {},
   "outputs": [],
   "source": [
    "datas = []\n",
    "\n",
    "for q_el in question_elements:\n",
    "    q_data = {}\n",
    "    for i, _class in enumerate(classes_needed):\n",
    "        sub_el = q_el.find(_class, first=True)\n",
    "        keyname = keynames[i]\n",
    "        q_data[keyname] = sub_el.text \n",
    "    datas.append(q_data)"
   ]
  },
  {
   "cell_type": "code",
   "execution_count": 20,
   "id": "4d16cba1-5e72-40dd-830f-a9672c69ddc5",
   "metadata": {},
   "outputs": [
    {
     "data": {
      "text/html": [
       "<div>\n",
       "<style scoped>\n",
       "    .dataframe tbody tr th:only-of-type {\n",
       "        vertical-align: middle;\n",
       "    }\n",
       "\n",
       "    .dataframe tbody tr th {\n",
       "        vertical-align: top;\n",
       "    }\n",
       "\n",
       "    .dataframe thead th {\n",
       "        text-align: right;\n",
       "    }\n",
       "</style>\n",
       "<table border=\"1\" class=\"dataframe\">\n",
       "  <thead>\n",
       "    <tr style=\"text-align: right;\">\n",
       "      <th></th>\n",
       "      <th>title</th>\n",
       "      <th>stats</th>\n",
       "      <th>tags</th>\n",
       "    </tr>\n",
       "  </thead>\n",
       "  <tbody>\n",
       "    <tr>\n",
       "      <th>0</th>\n",
       "      <td>Issues with workers dying and garbage collecti...</td>\n",
       "      <td>1 vote\\n0 answers\\n9 views</td>\n",
       "      <td>python\\npandas\\ndataframe\\ndask</td>\n",
       "    </tr>\n",
       "    <tr>\n",
       "      <th>1</th>\n",
       "      <td>Setting maximum number of workers in Dask map ...</td>\n",
       "      <td>1 vote\\n0 answers\\n10 views</td>\n",
       "      <td>python\\ndask\\ndask-distributed\\ndask-dataframe...</td>\n",
       "    </tr>\n",
       "    <tr>\n",
       "      <th>2</th>\n",
       "      <td>Dask Dataframe read_sql_table &amp; to_sql method ...</td>\n",
       "      <td>1 vote\\n0 answers\\n18 views</td>\n",
       "      <td>python\\npostgresql\\nsqlalchemy\\ndask\\ndask-dat...</td>\n",
       "    </tr>\n",
       "  </tbody>\n",
       "</table>\n",
       "</div>"
      ],
      "text/plain": [
       "                                               title  \\\n",
       "0  Issues with workers dying and garbage collecti...   \n",
       "1  Setting maximum number of workers in Dask map ...   \n",
       "2  Dask Dataframe read_sql_table & to_sql method ...   \n",
       "\n",
       "                         stats  \\\n",
       "0   1 vote\\n0 answers\\n9 views   \n",
       "1  1 vote\\n0 answers\\n10 views   \n",
       "2  1 vote\\n0 answers\\n18 views   \n",
       "\n",
       "                                                tags  \n",
       "0                    python\\npandas\\ndataframe\\ndask  \n",
       "1  python\\ndask\\ndask-distributed\\ndask-dataframe...  \n",
       "2  python\\npostgresql\\nsqlalchemy\\ndask\\ndask-dat...  "
      ]
     },
     "execution_count": 20,
     "metadata": {},
     "output_type": "execute_result"
    }
   ],
   "source": [
    "df = pd.DataFrame(datas)\n",
    "df.head(3)"
   ]
  },
  {
   "cell_type": "markdown",
   "id": "dc884fef-5bf5-4e67-8d58-46f16208f2fd",
   "metadata": {},
   "source": [
    "OK, the basics are working here.\n",
    "\n",
    "Let's now refine:\n",
    "- Separate votes, answers, and views into separate columns\n",
    "- Separate tags into separate colum"
   ]
  },
  {
   "cell_type": "code",
   "execution_count": 21,
   "id": "94c257f8-dd04-4067-9756-989529772334",
   "metadata": {},
   "outputs": [
    {
     "data": {
      "text/plain": [
       "['1 vote', '0 answers', '9 views']"
      ]
     },
     "execution_count": 21,
     "metadata": {},
     "output_type": "execute_result"
    }
   ],
   "source": [
    "# get stats and split\n",
    "this_question_element.find('.s-post-summary--stats', first=True).text.split(\"\\n\")"
   ]
  },
  {
   "cell_type": "code",
   "execution_count": 22,
   "id": "8a1855ce-a82e-400d-980b-9ffe353267dc",
   "metadata": {},
   "outputs": [
    {
     "data": {
      "text/plain": [
       "['1', '0', '9']"
      ]
     },
     "execution_count": 22,
     "metadata": {},
     "output_type": "execute_result"
    }
   ],
   "source": [
    "# get only numbers\n",
    "stats_test = re.findall(r'\\d+', this_question_element.find('.s-post-summary--stats', first=True).text)\n",
    "stats_test"
   ]
  },
  {
   "cell_type": "code",
   "execution_count": null,
   "id": "f020032c-cdfa-4ced-b6de-d3d6515929f5",
   "metadata": {},
   "outputs": [],
   "source": []
  },
  {
   "cell_type": "code",
   "execution_count": 23,
   "id": "51f4eeb7-b145-46b3-bafe-8e56b403a1fb",
   "metadata": {},
   "outputs": [
    {
     "data": {
      "text/plain": [
       "['python', 'pandas', 'dataframe', 'dask']"
      ]
     },
     "execution_count": 23,
     "metadata": {},
     "output_type": "execute_result"
    }
   ],
   "source": [
    "# get just tags\n",
    "this_question_element.find('.s-post-summary--meta-tags', first=True).text.split('\\n')"
   ]
  },
  {
   "cell_type": "markdown",
   "id": "9dffa695-4a2d-4faa-a222-c96c977c900e",
   "metadata": {},
   "source": [
    "OK, we now have clean tags and stats. Let's try this again:"
   ]
  },
  {
   "cell_type": "code",
   "execution_count": 24,
   "id": "562d4eaf-d403-40c6-b431-8ac6351dfb36",
   "metadata": {},
   "outputs": [],
   "source": [
    "# # function that will clean the scraped data\n",
    "# def clean_scraped_data(text, keyname=None):\n",
    "#     if keyname == 'stats':\n",
    "#         return re.findall(r'\\b\\d+\\b', text)\n",
    "#     elif keyname == 'tags':\n",
    "#         return text.split(\"\\n\")\n",
    "#     return text"
   ]
  },
  {
   "cell_type": "code",
   "execution_count": 37,
   "id": "017b3120-0885-45ac-931a-cd517e41874f",
   "metadata": {},
   "outputs": [],
   "source": [
    "# function that will clean the scraped data\n",
    "def clean_scraped_data(text, keyname=None):\n",
    "    if keyname == 'stats':\n",
    "        rep = {\" vote\": \"\", \" answer\": \"\", \" view\": \"\", \"s\": \"\"} #remove singular instances first, then remove all remaining \"s\"\n",
    "        # replace\n",
    "        rep = dict((re.escape(k), v) for k, v in rep.items()) \n",
    "        pattern = re.compile(\"|\".join(rep.keys()))\n",
    "        text = pattern.sub(lambda m: rep[re.escape(m.group(0))], text)\n",
    "        text = text.split('\\n')\n",
    "        # replace any k with 000\n",
    "        new_text = []\n",
    "        for n in text:\n",
    "            res = re.sub('k', '000', n)\n",
    "            n = int(res)\n",
    "            new_text.append(n)\n",
    "        return new_text\n",
    "    \n",
    "    elif keyname == 'tags':\n",
    "        return text.split(\"\\n\")\n",
    "    return text"
   ]
  },
  {
   "cell_type": "code",
   "execution_count": 38,
   "id": "40a871b6-e997-4c75-896f-f74b5f5f3612",
   "metadata": {},
   "outputs": [],
   "source": [
    "datas = []\n",
    "\n",
    "for q_el in question_elements:\n",
    "    q_data = {}\n",
    "    for i, _class in enumerate(classes_needed):\n",
    "        sub_el = q_el.find(_class, first=True)\n",
    "        keyname = keynames[i]\n",
    "        q_data[keyname] = clean_scraped_data(sub_el.text, keyname=keyname) \n",
    "    datas.append(q_data)"
   ]
  },
  {
   "cell_type": "code",
   "execution_count": 39,
   "id": "6dcba353-a9bc-42d2-ba5d-d288f6d8845c",
   "metadata": {},
   "outputs": [
    {
     "data": {
      "text/html": [
       "<div>\n",
       "<style scoped>\n",
       "    .dataframe tbody tr th:only-of-type {\n",
       "        vertical-align: middle;\n",
       "    }\n",
       "\n",
       "    .dataframe tbody tr th {\n",
       "        vertical-align: top;\n",
       "    }\n",
       "\n",
       "    .dataframe thead th {\n",
       "        text-align: right;\n",
       "    }\n",
       "</style>\n",
       "<table border=\"1\" class=\"dataframe\">\n",
       "  <thead>\n",
       "    <tr style=\"text-align: right;\">\n",
       "      <th></th>\n",
       "      <th>title</th>\n",
       "      <th>stats</th>\n",
       "      <th>tags</th>\n",
       "    </tr>\n",
       "  </thead>\n",
       "  <tbody>\n",
       "    <tr>\n",
       "      <th>0</th>\n",
       "      <td>Issues with workers dying and garbage collecti...</td>\n",
       "      <td>[1, 0, 9]</td>\n",
       "      <td>[python, pandas, dataframe, dask]</td>\n",
       "    </tr>\n",
       "    <tr>\n",
       "      <th>1</th>\n",
       "      <td>Setting maximum number of workers in Dask map ...</td>\n",
       "      <td>[1, 0, 10]</td>\n",
       "      <td>[python, dask, dask-distributed, dask-datafram...</td>\n",
       "    </tr>\n",
       "    <tr>\n",
       "      <th>2</th>\n",
       "      <td>Dask Dataframe read_sql_table &amp; to_sql method ...</td>\n",
       "      <td>[1, 0, 18]</td>\n",
       "      <td>[python, postgresql, sqlalchemy, dask, dask-da...</td>\n",
       "    </tr>\n",
       "    <tr>\n",
       "      <th>3</th>\n",
       "      <td>Dask running out of memory even when partition...</td>\n",
       "      <td>[0, 0, 24]</td>\n",
       "      <td>[dask, dask-distributed, dask-dataframe]</td>\n",
       "    </tr>\n",
       "    <tr>\n",
       "      <th>4</th>\n",
       "      <td>Disable pure function assumption in dask distr...</td>\n",
       "      <td>[0, 0, 11]</td>\n",
       "      <td>[python, dask, dask-distributed]</td>\n",
       "    </tr>\n",
       "  </tbody>\n",
       "</table>\n",
       "</div>"
      ],
      "text/plain": [
       "                                               title       stats  \\\n",
       "0  Issues with workers dying and garbage collecti...   [1, 0, 9]   \n",
       "1  Setting maximum number of workers in Dask map ...  [1, 0, 10]   \n",
       "2  Dask Dataframe read_sql_table & to_sql method ...  [1, 0, 18]   \n",
       "3  Dask running out of memory even when partition...  [0, 0, 24]   \n",
       "4  Disable pure function assumption in dask distr...  [0, 0, 11]   \n",
       "\n",
       "                                                tags  \n",
       "0                  [python, pandas, dataframe, dask]  \n",
       "1  [python, dask, dask-distributed, dask-datafram...  \n",
       "2  [python, postgresql, sqlalchemy, dask, dask-da...  \n",
       "3           [dask, dask-distributed, dask-dataframe]  \n",
       "4                   [python, dask, dask-distributed]  "
      ]
     },
     "execution_count": 39,
     "metadata": {},
     "output_type": "execute_result"
    }
   ],
   "source": [
    "df = pd.DataFrame(datas)\n",
    "df.head()"
   ]
  },
  {
   "cell_type": "markdown",
   "id": "40b2b741-afe6-4fd2-ba21-4354d69da0c1",
   "metadata": {},
   "source": [
    "Sweet. This is working for the first 50 results!"
   ]
  },
  {
   "cell_type": "code",
   "execution_count": 40,
   "id": "79040529-8732-4b30-a9bf-3849fcd9df3d",
   "metadata": {},
   "outputs": [],
   "source": [
    "# define function that will parse a single page\n",
    "\n",
    "def parse_tagged_page(html):\n",
    "    question_elements = html.find(\".s-post-summary\")\n",
    "    keynames = ['title', 'stats', 'tags']\n",
    "    classes_needed = ['.s-post-summary--content-title', '.s-post-summary--stats', '.s-post-summary--meta-tags',]\n",
    "    datas = []\n",
    "    for q_el in question_elements:\n",
    "        q_data = {}\n",
    "        for i, _class in enumerate(classes_needed):\n",
    "            sub_el = q_el.find(_class, first=True)\n",
    "            keyname = keynames[i]\n",
    "            q_data[keyname] = clean_scraped_data(sub_el.text, keyname=keyname) \n",
    "        datas.append(q_data)\n",
    "    return datas"
   ]
  },
  {
   "cell_type": "code",
   "execution_count": 41,
   "id": "96224190-320e-47ae-872e-a743cccd8ce4",
   "metadata": {},
   "outputs": [],
   "source": [
    "# define function that will extract data from url\n",
    "def extract_data_from_url(url):\n",
    "    r = requests.get(url)\n",
    "    if r.status_code not in range(200, 299):\n",
    "        return []\n",
    "    html_str = r.text\n",
    "    html = HTML(html=html_str)\n",
    "    datas = parse_tagged_page(html)\n",
    "    return datas"
   ]
  },
  {
   "cell_type": "code",
   "execution_count": 42,
   "id": "56cd5ced-3435-442b-b396-02f31f4cc641",
   "metadata": {},
   "outputs": [],
   "source": [
    "# function that will scrape the entire tag\n",
    "def scrape_tag(tag = \"python\", query_filter = \"Newest\", max_pages=100, pagesize=50):\n",
    "    base_url = 'https://stackoverflow.com/questions/tagged/'\n",
    "    datas = []\n",
    "    for p in range(max_pages):\n",
    "        page_num = p + 1\n",
    "        url = f\"{base_url}{tag}?tab={query_filter}&page={page_num}&pagesize={pagesize}\"\n",
    "        datas += extract_data_from_url(url)\n",
    "        time.sleep(1.2)\n",
    "    return datas"
   ]
  },
  {
   "cell_type": "code",
   "execution_count": null,
   "id": "7aad38af-6af7-4925-9f69-54791d9d716d",
   "metadata": {},
   "outputs": [],
   "source": [
    "%%time \n",
    "datas = scrape_tag(tag='dask')"
   ]
  },
  {
   "cell_type": "code",
   "execution_count": null,
   "id": "a3b5111b-ea6e-4d92-8568-24dfce386041",
   "metadata": {},
   "outputs": [],
   "source": [
    "df = pd.DataFrame(datas)\n",
    "df.head()"
   ]
  },
  {
   "cell_type": "code",
   "execution_count": null,
   "id": "5899983e-3a7c-498d-967e-67deb1eae694",
   "metadata": {},
   "outputs": [],
   "source": [
    "len(df)"
   ]
  },
  {
   "cell_type": "markdown",
   "id": "4ca15f0e-2b3a-4f41-af94-c083f0feca6b",
   "metadata": {},
   "source": [
    "## Clean up dataframe"
   ]
  },
  {
   "cell_type": "code",
   "execution_count": 34,
   "id": "0a29c137-5a1a-4da3-9bb0-9a8af3811c68",
   "metadata": {},
   "outputs": [
    {
     "data": {
      "text/html": [
       "<div>\n",
       "<style scoped>\n",
       "    .dataframe tbody tr th:only-of-type {\n",
       "        vertical-align: middle;\n",
       "    }\n",
       "\n",
       "    .dataframe tbody tr th {\n",
       "        vertical-align: top;\n",
       "    }\n",
       "\n",
       "    .dataframe thead th {\n",
       "        text-align: right;\n",
       "    }\n",
       "</style>\n",
       "<table border=\"1\" class=\"dataframe\">\n",
       "  <thead>\n",
       "    <tr style=\"text-align: right;\">\n",
       "      <th></th>\n",
       "      <th>title</th>\n",
       "      <th>tags</th>\n",
       "      <th>votes</th>\n",
       "      <th>answers</th>\n",
       "      <th>views</th>\n",
       "    </tr>\n",
       "  </thead>\n",
       "  <tbody>\n",
       "    <tr>\n",
       "      <th>0</th>\n",
       "      <td>Issues with workers dying and garbage collecti...</td>\n",
       "      <td>[python, pandas, dataframe, dask]</td>\n",
       "      <td>1</td>\n",
       "      <td>0</td>\n",
       "      <td>9</td>\n",
       "    </tr>\n",
       "    <tr>\n",
       "      <th>1</th>\n",
       "      <td>Setting maximum number of workers in Dask map ...</td>\n",
       "      <td>[python, dask, dask-distributed, dask-datafram...</td>\n",
       "      <td>1</td>\n",
       "      <td>0</td>\n",
       "      <td>10</td>\n",
       "    </tr>\n",
       "    <tr>\n",
       "      <th>2</th>\n",
       "      <td>Dask Dataframe read_sql_table &amp; to_sql method ...</td>\n",
       "      <td>[python, postgresql, sqlalchemy, dask, dask-da...</td>\n",
       "      <td>1</td>\n",
       "      <td>0</td>\n",
       "      <td>18</td>\n",
       "    </tr>\n",
       "    <tr>\n",
       "      <th>3</th>\n",
       "      <td>Dask running out of memory even when partition...</td>\n",
       "      <td>[dask, dask-distributed, dask-dataframe]</td>\n",
       "      <td>0</td>\n",
       "      <td>0</td>\n",
       "      <td>24</td>\n",
       "    </tr>\n",
       "    <tr>\n",
       "      <th>4</th>\n",
       "      <td>Disable pure function assumption in dask distr...</td>\n",
       "      <td>[python, dask, dask-distributed]</td>\n",
       "      <td>0</td>\n",
       "      <td>0</td>\n",
       "      <td>11</td>\n",
       "    </tr>\n",
       "  </tbody>\n",
       "</table>\n",
       "</div>"
      ],
      "text/plain": [
       "                                               title  \\\n",
       "0  Issues with workers dying and garbage collecti...   \n",
       "1  Setting maximum number of workers in Dask map ...   \n",
       "2  Dask Dataframe read_sql_table & to_sql method ...   \n",
       "3  Dask running out of memory even when partition...   \n",
       "4  Disable pure function assumption in dask distr...   \n",
       "\n",
       "                                                tags votes answers views  \n",
       "0                  [python, pandas, dataframe, dask]     1       0     9  \n",
       "1  [python, dask, dask-distributed, dask-datafram...     1       0    10  \n",
       "2  [python, postgresql, sqlalchemy, dask, dask-da...     1       0    18  \n",
       "3           [dask, dask-distributed, dask-dataframe]     0       0    24  \n",
       "4                   [python, dask, dask-distributed]     0       0    11  "
      ]
     },
     "execution_count": 34,
     "metadata": {},
     "output_type": "execute_result"
    }
   ],
   "source": [
    "# get stats into separate columns\n",
    "df[['votes', 'answers', 'views']] = pd.DataFrame(df['stats'].to_list())\n",
    "df = df.drop(columns=['stats'])\n",
    "df.head()"
   ]
  },
  {
   "cell_type": "code",
   "execution_count": null,
   "id": "c6c69992-1e2d-4937-92a3-7aaade6871d6",
   "metadata": {},
   "outputs": [],
   "source": [
    "#TO DO\n",
    "# 1. Fetch question URL \n",
    "# 2. Fetch question timestamp\n",
    "# 3. Create \"answered\" true/false column\n",
    "# 4. For fun: use Futures to fetch data in parallel"
   ]
  },
  {
   "cell_type": "code",
   "execution_count": null,
   "id": "d3e4cbe0-5f16-4ba5-8bf8-f3709ce74acc",
   "metadata": {},
   "outputs": [],
   "source": []
  },
  {
   "cell_type": "markdown",
   "id": "6e301235-6564-4b07-97b8-c4b7fd9d0cbd",
   "metadata": {},
   "source": [
    "## Run some analyses"
   ]
  },
  {
   "cell_type": "code",
   "execution_count": 35,
   "id": "58a0aebd-d39f-4c02-8d02-014905d48b63",
   "metadata": {},
   "outputs": [
    {
     "data": {
      "text/html": [
       "<div>\n",
       "<style scoped>\n",
       "    .dataframe tbody tr th:only-of-type {\n",
       "        vertical-align: middle;\n",
       "    }\n",
       "\n",
       "    .dataframe tbody tr th {\n",
       "        vertical-align: top;\n",
       "    }\n",
       "\n",
       "    .dataframe thead th {\n",
       "        text-align: right;\n",
       "    }\n",
       "</style>\n",
       "<table border=\"1\" class=\"dataframe\">\n",
       "  <thead>\n",
       "    <tr style=\"text-align: right;\">\n",
       "      <th></th>\n",
       "      <th>title</th>\n",
       "      <th>tags</th>\n",
       "      <th>votes</th>\n",
       "      <th>answers</th>\n",
       "      <th>views</th>\n",
       "    </tr>\n",
       "  </thead>\n",
       "  <tbody>\n",
       "    <tr>\n",
       "      <th>2597</th>\n",
       "      <td>How to parallelize groupby() in dask?</td>\n",
       "      <td>[pandas, parallel-processing, pandas-groupby, ...</td>\n",
       "      <td>9</td>\n",
       "      <td>1</td>\n",
       "      <td>2000</td>\n",
       "    </tr>\n",
       "    <tr>\n",
       "      <th>3705</th>\n",
       "      <td>ValueError: Not all divisions are known, can't...</td>\n",
       "      <td>[python, dataframe, dask, dask-distributed]</td>\n",
       "      <td>9</td>\n",
       "      <td>1</td>\n",
       "      <td>3000</td>\n",
       "    </tr>\n",
       "    <tr>\n",
       "      <th>2969</th>\n",
       "      <td>Dask: Drop NAs on columns?</td>\n",
       "      <td>[python, pandas, optimization, dask]</td>\n",
       "      <td>9</td>\n",
       "      <td>3</td>\n",
       "      <td>4000</td>\n",
       "    </tr>\n",
       "    <tr>\n",
       "      <th>3224</th>\n",
       "      <td>Sorting in Dask</td>\n",
       "      <td>[sorting, dask, dask-distributed, dask-delayed]</td>\n",
       "      <td>9</td>\n",
       "      <td>1</td>\n",
       "      <td>6000</td>\n",
       "    </tr>\n",
       "    <tr>\n",
       "      <th>3150</th>\n",
       "      <td>dask: specify number of processes</td>\n",
       "      <td>[python, dask]</td>\n",
       "      <td>9</td>\n",
       "      <td>2</td>\n",
       "      <td>6000</td>\n",
       "    </tr>\n",
       "    <tr>\n",
       "      <th>3410</th>\n",
       "      <td>Dask delayed object of unspecified length not ...</td>\n",
       "      <td>[python, dictionary, dask, dask-delayed]</td>\n",
       "      <td>9</td>\n",
       "      <td>1</td>\n",
       "      <td>6000</td>\n",
       "    </tr>\n",
       "    <tr>\n",
       "      <th>3570</th>\n",
       "      <td>dask.multiprocessing or pandas + multiprocessi...</td>\n",
       "      <td>[python, multithreading, pandas, multiprocessi...</td>\n",
       "      <td>9</td>\n",
       "      <td>1</td>\n",
       "      <td>11000</td>\n",
       "    </tr>\n",
       "    <tr>\n",
       "      <th>3572</th>\n",
       "      <td>dask apply: AttributeError: 'DataFrame' object...</td>\n",
       "      <td>[python, dask]</td>\n",
       "      <td>9</td>\n",
       "      <td>1</td>\n",
       "      <td>8000</td>\n",
       "    </tr>\n",
       "    <tr>\n",
       "      <th>3436</th>\n",
       "      <td>Summarize categorical data in Dask DataFrame</td>\n",
       "      <td>[python, dask]</td>\n",
       "      <td>9</td>\n",
       "      <td>1</td>\n",
       "      <td>747</td>\n",
       "    </tr>\n",
       "    <tr>\n",
       "      <th>3329</th>\n",
       "      <td>How to use Dask Pivot_table?</td>\n",
       "      <td>[dataframe, pivot-table, dask]</td>\n",
       "      <td>9</td>\n",
       "      <td>1</td>\n",
       "      <td>8000</td>\n",
       "    </tr>\n",
       "  </tbody>\n",
       "</table>\n",
       "</div>"
      ],
      "text/plain": [
       "                                                  title  \\\n",
       "2597              How to parallelize groupby() in dask?   \n",
       "3705  ValueError: Not all divisions are known, can't...   \n",
       "2969                         Dask: Drop NAs on columns?   \n",
       "3224                                    Sorting in Dask   \n",
       "3150                  dask: specify number of processes   \n",
       "3410  Dask delayed object of unspecified length not ...   \n",
       "3570  dask.multiprocessing or pandas + multiprocessi...   \n",
       "3572  dask apply: AttributeError: 'DataFrame' object...   \n",
       "3436       Summarize categorical data in Dask DataFrame   \n",
       "3329                       How to use Dask Pivot_table?   \n",
       "\n",
       "                                                   tags votes answers  views  \n",
       "2597  [pandas, parallel-processing, pandas-groupby, ...     9       1   2000  \n",
       "3705        [python, dataframe, dask, dask-distributed]     9       1   3000  \n",
       "2969               [python, pandas, optimization, dask]     9       3   4000  \n",
       "3224    [sorting, dask, dask-distributed, dask-delayed]     9       1   6000  \n",
       "3150                                     [python, dask]     9       2   6000  \n",
       "3410           [python, dictionary, dask, dask-delayed]     9       1   6000  \n",
       "3570  [python, multithreading, pandas, multiprocessi...     9       1  11000  \n",
       "3572                                     [python, dask]     9       1   8000  \n",
       "3436                                     [python, dask]     9       1    747  \n",
       "3329                     [dataframe, pivot-table, dask]     9       1   8000  "
      ]
     },
     "execution_count": 35,
     "metadata": {},
     "output_type": "execute_result"
    }
   ],
   "source": [
    "# most-upvoted questions\n",
    "df.sort_values('votes', ascending=False).head(10)"
   ]
  },
  {
   "cell_type": "code",
   "execution_count": 36,
   "id": "f1c0866f-ab6f-4c2c-9d7e-6c3207930541",
   "metadata": {},
   "outputs": [
    {
     "data": {
      "text/html": [
       "<div>\n",
       "<style scoped>\n",
       "    .dataframe tbody tr th:only-of-type {\n",
       "        vertical-align: middle;\n",
       "    }\n",
       "\n",
       "    .dataframe tbody tr th {\n",
       "        vertical-align: top;\n",
       "    }\n",
       "\n",
       "    .dataframe thead th {\n",
       "        text-align: right;\n",
       "    }\n",
       "</style>\n",
       "<table border=\"1\" class=\"dataframe\">\n",
       "  <thead>\n",
       "    <tr style=\"text-align: right;\">\n",
       "      <th></th>\n",
       "      <th>title</th>\n",
       "      <th>tags</th>\n",
       "      <th>votes</th>\n",
       "      <th>answers</th>\n",
       "      <th>views</th>\n",
       "    </tr>\n",
       "  </thead>\n",
       "  <tbody>\n",
       "    <tr>\n",
       "      <th>2691</th>\n",
       "      <td>convert CSV file to parquet using dask (jupyte...</td>\n",
       "      <td>[python, tensorflow, jupyter-notebook, dask, p...</td>\n",
       "      <td>2</td>\n",
       "      <td>1</td>\n",
       "      <td>999</td>\n",
       "    </tr>\n",
       "    <tr>\n",
       "      <th>2757</th>\n",
       "      <td>How to convert column into category 'as_known(...</td>\n",
       "      <td>[python, dask, dask-distributed]</td>\n",
       "      <td>1</td>\n",
       "      <td>1</td>\n",
       "      <td>998</td>\n",
       "    </tr>\n",
       "    <tr>\n",
       "      <th>2841</th>\n",
       "      <td>Get ID of Dask worker from within a task</td>\n",
       "      <td>[dask, dask-distributed]</td>\n",
       "      <td>7</td>\n",
       "      <td>1</td>\n",
       "      <td>998</td>\n",
       "    </tr>\n",
       "    <tr>\n",
       "      <th>2487</th>\n",
       "      <td>Pycharm debugger throws Bad file descriptor er...</td>\n",
       "      <td>[python, pycharm, dask, dask-distributed]</td>\n",
       "      <td>4</td>\n",
       "      <td>0</td>\n",
       "      <td>994</td>\n",
       "    </tr>\n",
       "    <tr>\n",
       "      <th>3602</th>\n",
       "      <td>Lazy repartitioning of dask dataframe</td>\n",
       "      <td>[dask, dask-distributed]</td>\n",
       "      <td>3</td>\n",
       "      <td>1</td>\n",
       "      <td>994</td>\n",
       "    </tr>\n",
       "    <tr>\n",
       "      <th>3345</th>\n",
       "      <td>Push a pure-python module to Dask workers</td>\n",
       "      <td>[dask]</td>\n",
       "      <td>0</td>\n",
       "      <td>2</td>\n",
       "      <td>993</td>\n",
       "    </tr>\n",
       "    <tr>\n",
       "      <th>3451</th>\n",
       "      <td>distributed.protocol.pickle - INFO - Failed to...</td>\n",
       "      <td>[python-3.x, python-2.7, dask, dask-distribute...</td>\n",
       "      <td>2</td>\n",
       "      <td>1</td>\n",
       "      <td>992</td>\n",
       "    </tr>\n",
       "    <tr>\n",
       "      <th>4066</th>\n",
       "      <td>dask.array.reshape very slow</td>\n",
       "      <td>[arrays, dask]</td>\n",
       "      <td>1</td>\n",
       "      <td>1</td>\n",
       "      <td>991</td>\n",
       "    </tr>\n",
       "    <tr>\n",
       "      <th>2295</th>\n",
       "      <td>Specify dashboard port for dask</td>\n",
       "      <td>[python, dask, dask-distributed]</td>\n",
       "      <td>5</td>\n",
       "      <td>1</td>\n",
       "      <td>990</td>\n",
       "    </tr>\n",
       "    <tr>\n",
       "      <th>2020</th>\n",
       "      <td>dask: astype() got an unexpected keyword argum...</td>\n",
       "      <td>[dask]</td>\n",
       "      <td>0</td>\n",
       "      <td>1</td>\n",
       "      <td>990</td>\n",
       "    </tr>\n",
       "  </tbody>\n",
       "</table>\n",
       "</div>"
      ],
      "text/plain": [
       "                                                  title  \\\n",
       "2691  convert CSV file to parquet using dask (jupyte...   \n",
       "2757  How to convert column into category 'as_known(...   \n",
       "2841           Get ID of Dask worker from within a task   \n",
       "2487  Pycharm debugger throws Bad file descriptor er...   \n",
       "3602              Lazy repartitioning of dask dataframe   \n",
       "3345          Push a pure-python module to Dask workers   \n",
       "3451  distributed.protocol.pickle - INFO - Failed to...   \n",
       "4066                       dask.array.reshape very slow   \n",
       "2295                    Specify dashboard port for dask   \n",
       "2020  dask: astype() got an unexpected keyword argum...   \n",
       "\n",
       "                                                   tags votes answers views  \n",
       "2691  [python, tensorflow, jupyter-notebook, dask, p...     2       1   999  \n",
       "2757                   [python, dask, dask-distributed]     1       1   998  \n",
       "2841                           [dask, dask-distributed]     7       1   998  \n",
       "2487          [python, pycharm, dask, dask-distributed]     4       0   994  \n",
       "3602                           [dask, dask-distributed]     3       1   994  \n",
       "3345                                             [dask]     0       2   993  \n",
       "3451  [python-3.x, python-2.7, dask, dask-distribute...     2       1   992  \n",
       "4066                                     [arrays, dask]     1       1   991  \n",
       "2295                   [python, dask, dask-distributed]     5       1   990  \n",
       "2020                                             [dask]     0       1   990  "
      ]
     },
     "execution_count": 36,
     "metadata": {},
     "output_type": "execute_result"
    }
   ],
   "source": [
    "# most-viewed questions\n",
    "df.sort_values('views', ascending=False).head(10)"
   ]
  },
  {
   "cell_type": "code",
   "execution_count": null,
   "id": "013955c0-0da7-45c6-93b8-32604607c4a0",
   "metadata": {},
   "outputs": [],
   "source": [
    "# most common tags"
   ]
  },
  {
   "cell_type": "code",
   "execution_count": null,
   "id": "480f8f6c-f5a2-49de-85ee-9351296efeca",
   "metadata": {},
   "outputs": [],
   "source": []
  },
  {
   "cell_type": "code",
   "execution_count": null,
   "id": "e7e7c105-f653-4cb8-bc3a-02c677517f3f",
   "metadata": {},
   "outputs": [],
   "source": []
  },
  {
   "cell_type": "code",
   "execution_count": null,
   "id": "9345869b-7c12-423b-a48d-729bfc1b0d57",
   "metadata": {},
   "outputs": [],
   "source": []
  },
  {
   "cell_type": "code",
   "execution_count": null,
   "id": "b317e97e-28d2-466e-bd06-55f7e76eb2e1",
   "metadata": {},
   "outputs": [],
   "source": []
  }
 ],
 "metadata": {
  "kernelspec": {
   "display_name": "Python [conda env:scrape] *",
   "language": "python",
   "name": "conda-env-scrape-py"
  },
  "language_info": {
   "codemirror_mode": {
    "name": "ipython",
    "version": 3
   },
   "file_extension": ".py",
   "mimetype": "text/x-python",
   "name": "python",
   "nbconvert_exporter": "python",
   "pygments_lexer": "ipython3",
   "version": "3.10.6"
  }
 },
 "nbformat": 4,
 "nbformat_minor": 5
}
